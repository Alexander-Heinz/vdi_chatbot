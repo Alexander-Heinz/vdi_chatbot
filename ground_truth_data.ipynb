{
 "cells": [
  {
   "cell_type": "code",
   "execution_count": 56,
   "metadata": {},
   "outputs": [
    {
     "data": {
      "text/html": [
       "<div>\n",
       "<style scoped>\n",
       "    .dataframe tbody tr th:only-of-type {\n",
       "        vertical-align: middle;\n",
       "    }\n",
       "\n",
       "    .dataframe tbody tr th {\n",
       "        vertical-align: top;\n",
       "    }\n",
       "\n",
       "    .dataframe thead th {\n",
       "        text-align: right;\n",
       "    }\n",
       "</style>\n",
       "<table border=\"1\" class=\"dataframe\">\n",
       "  <thead>\n",
       "    <tr style=\"text-align: right;\">\n",
       "      <th></th>\n",
       "      <th>Category</th>\n",
       "      <th>Question</th>\n",
       "      <th>Answer</th>\n",
       "    </tr>\n",
       "  </thead>\n",
       "  <tbody>\n",
       "    <tr>\n",
       "      <th>0</th>\n",
       "      <td>--Bonitätsprüfung</td>\n",
       "      <td>Wie kann die Bonität nachgewiesen werden?</td>\n",
       "      <td>Zweck einer Bonitätsprüfung (siehe https://vd...</td>\n",
       "    </tr>\n",
       "    <tr>\n",
       "      <th>1</th>\n",
       "      <td>--Profi-Online</td>\n",
       "      <td>Darf das Konsortium nur aus Forschungseinricht...</td>\n",
       "      <td>Bitte entnehmen Sie die Information zu den An...</td>\n",
       "    </tr>\n",
       "    <tr>\n",
       "      <th>2</th>\n",
       "      <td>--Profi-Online</td>\n",
       "      <td>Können mehrere Personen Rechte für die Nutzerv...</td>\n",
       "      <td>Es können mehrere Personen eines Zuwendungsem...</td>\n",
       "    </tr>\n",
       "    <tr>\n",
       "      <th>3</th>\n",
       "      <td>--Profi-Online</td>\n",
       "      <td>Sollte die Projektleitung einen profi-Online Z...</td>\n",
       "      <td>Ob die Projektleitenden einen Zugang zu profi...</td>\n",
       "    </tr>\n",
       "    <tr>\n",
       "      <th>4</th>\n",
       "      <td>--Profi-Online</td>\n",
       "      <td>Wer schaltet die Zugänge für \"profi-Online\" frei?</td>\n",
       "      <td>Der Antrag auf profi-online ist der VDIVDE IT...</td>\n",
       "    </tr>\n",
       "  </tbody>\n",
       "</table>\n",
       "</div>"
      ],
      "text/plain": [
       "            Category                                           Question  \\\n",
       "0  --Bonitätsprüfung          Wie kann die Bonität nachgewiesen werden?   \n",
       "1     --Profi-Online  Darf das Konsortium nur aus Forschungseinricht...   \n",
       "2     --Profi-Online  Können mehrere Personen Rechte für die Nutzerv...   \n",
       "3     --Profi-Online  Sollte die Projektleitung einen profi-Online Z...   \n",
       "4     --Profi-Online  Wer schaltet die Zugänge für \"profi-Online\" frei?   \n",
       "\n",
       "                                              Answer  \n",
       "0   Zweck einer Bonitätsprüfung (siehe https://vd...  \n",
       "1   Bitte entnehmen Sie die Information zu den An...  \n",
       "2   Es können mehrere Personen eines Zuwendungsem...  \n",
       "3   Ob die Projektleitenden einen Zugang zu profi...  \n",
       "4   Der Antrag auf profi-online ist der VDIVDE IT...  "
      ]
     },
     "execution_count": 56,
     "metadata": {},
     "output_type": "execute_result"
    }
   ],
   "source": [
    "import pandas as pd\n",
    "\n",
    "# Load the FAQ data\n",
    "documents = pd.read_csv('faqs.csv')\n",
    "documents = documents.drop_duplicates(subset=['Category', 'Answer', 'Category'], keep='first')\n",
    "    \n",
    "documents.head()"
   ]
  },
  {
   "cell_type": "code",
   "execution_count": 77,
   "metadata": {},
   "outputs": [],
   "source": [
    "import hashlib\n",
    "\n",
    "def generate_document_id(doc):\n",
    "    combined = f\"{doc['Category']}-{doc['Question']}-{doc['Answer'][:10]}-{doc['Answer'][:-10]}\"\n",
    "    hash_object = hashlib.md5(combined.encode())\n",
    "    hash_hex = hash_object.hexdigest()\n",
    "    document_id = hash_hex[:8]\n",
    "    return document_id"
   ]
  },
  {
   "cell_type": "code",
   "execution_count": 78,
   "metadata": {},
   "outputs": [],
   "source": [
    "def generate_document_ids_for_dataframe(df):\n",
    "    df['id'] = df.apply(generate_document_id, axis=1)\n",
    "    return df"
   ]
  },
  {
   "cell_type": "code",
   "execution_count": 79,
   "metadata": {},
   "outputs": [],
   "source": [
    "documents = generate_document_ids_for_dataframe(documents)"
   ]
  },
  {
   "cell_type": "code",
   "execution_count": 80,
   "metadata": {},
   "outputs": [
    {
     "data": {
      "text/html": [
       "<div>\n",
       "<style scoped>\n",
       "    .dataframe tbody tr th:only-of-type {\n",
       "        vertical-align: middle;\n",
       "    }\n",
       "\n",
       "    .dataframe tbody tr th {\n",
       "        vertical-align: top;\n",
       "    }\n",
       "\n",
       "    .dataframe thead th {\n",
       "        text-align: right;\n",
       "    }\n",
       "</style>\n",
       "<table border=\"1\" class=\"dataframe\">\n",
       "  <thead>\n",
       "    <tr style=\"text-align: right;\">\n",
       "      <th></th>\n",
       "      <th>Category</th>\n",
       "      <th>Question</th>\n",
       "      <th>Answer</th>\n",
       "      <th>id</th>\n",
       "    </tr>\n",
       "  </thead>\n",
       "  <tbody>\n",
       "    <tr>\n",
       "      <th>0</th>\n",
       "      <td>--Bonitätsprüfung</td>\n",
       "      <td>Wie kann die Bonität nachgewiesen werden?</td>\n",
       "      <td>Zweck einer Bonitätsprüfung (siehe https://vd...</td>\n",
       "      <td>bead1965</td>\n",
       "    </tr>\n",
       "    <tr>\n",
       "      <th>1</th>\n",
       "      <td>--Profi-Online</td>\n",
       "      <td>Darf das Konsortium nur aus Forschungseinricht...</td>\n",
       "      <td>Bitte entnehmen Sie die Information zu den An...</td>\n",
       "      <td>99541b90</td>\n",
       "    </tr>\n",
       "    <tr>\n",
       "      <th>2</th>\n",
       "      <td>--Profi-Online</td>\n",
       "      <td>Können mehrere Personen Rechte für die Nutzerv...</td>\n",
       "      <td>Es können mehrere Personen eines Zuwendungsem...</td>\n",
       "      <td>84ae26c1</td>\n",
       "    </tr>\n",
       "    <tr>\n",
       "      <th>3</th>\n",
       "      <td>--Profi-Online</td>\n",
       "      <td>Sollte die Projektleitung einen profi-Online Z...</td>\n",
       "      <td>Ob die Projektleitenden einen Zugang zu profi...</td>\n",
       "      <td>0817bd44</td>\n",
       "    </tr>\n",
       "    <tr>\n",
       "      <th>4</th>\n",
       "      <td>--Profi-Online</td>\n",
       "      <td>Wer schaltet die Zugänge für \"profi-Online\" frei?</td>\n",
       "      <td>Der Antrag auf profi-online ist der VDIVDE IT...</td>\n",
       "      <td>f06cd838</td>\n",
       "    </tr>\n",
       "    <tr>\n",
       "      <th>...</th>\n",
       "      <td>...</td>\n",
       "      <td>...</td>\n",
       "      <td>...</td>\n",
       "      <td>...</td>\n",
       "    </tr>\n",
       "    <tr>\n",
       "      <th>1003</th>\n",
       "      <td>---Allgemeine Informationen</td>\n",
       "      <td>Welche anderen Dokumente können (ggf. alternat...</td>\n",
       "      <td>Für die Vorlage des Verwendungsnachweises sin...</td>\n",
       "      <td>d1404867</td>\n",
       "    </tr>\n",
       "    <tr>\n",
       "      <th>1013</th>\n",
       "      <td>---Allgemeine Informationen</td>\n",
       "      <td>Wie wird der Zeitnachweis für das Personal gef...</td>\n",
       "      <td>Für Hochschulen und andere grundfinanzierte E...</td>\n",
       "      <td>15def961</td>\n",
       "    </tr>\n",
       "    <tr>\n",
       "      <th>1014</th>\n",
       "      <td>---Allgemeine Informationen</td>\n",
       "      <td>Wie wird die Jahressonderzahlung bei Mitarbeit...</td>\n",
       "      <td>Die Jahressonderzahlung darf nur anteilig für...</td>\n",
       "      <td>23732604</td>\n",
       "    </tr>\n",
       "    <tr>\n",
       "      <th>1017</th>\n",
       "      <td>---Allgemeine Informationen</td>\n",
       "      <td>Wo finde ich das Formular für den Abschlussber...</td>\n",
       "      <td>Für den Sachbericht gibt es kein allgemein gü...</td>\n",
       "      <td>02cf6410</td>\n",
       "    </tr>\n",
       "    <tr>\n",
       "      <th>1019</th>\n",
       "      <td>---Allgemeine Informationen</td>\n",
       "      <td>Wo findet man das Personalberechnungstool für ...</td>\n",
       "      <td>Anbei finden Sie den P ersonalberechnungstool...</td>\n",
       "      <td>e0cebdfd</td>\n",
       "    </tr>\n",
       "  </tbody>\n",
       "</table>\n",
       "<p>833 rows × 4 columns</p>\n",
       "</div>"
      ],
      "text/plain": [
       "                         Category  \\\n",
       "0               --Bonitätsprüfung   \n",
       "1                  --Profi-Online   \n",
       "2                  --Profi-Online   \n",
       "3                  --Profi-Online   \n",
       "4                  --Profi-Online   \n",
       "...                           ...   \n",
       "1003  ---Allgemeine Informationen   \n",
       "1013  ---Allgemeine Informationen   \n",
       "1014  ---Allgemeine Informationen   \n",
       "1017  ---Allgemeine Informationen   \n",
       "1019  ---Allgemeine Informationen   \n",
       "\n",
       "                                               Question  \\\n",
       "0             Wie kann die Bonität nachgewiesen werden?   \n",
       "1     Darf das Konsortium nur aus Forschungseinricht...   \n",
       "2     Können mehrere Personen Rechte für die Nutzerv...   \n",
       "3     Sollte die Projektleitung einen profi-Online Z...   \n",
       "4     Wer schaltet die Zugänge für \"profi-Online\" frei?   \n",
       "...                                                 ...   \n",
       "1003  Welche anderen Dokumente können (ggf. alternat...   \n",
       "1013  Wie wird der Zeitnachweis für das Personal gef...   \n",
       "1014  Wie wird die Jahressonderzahlung bei Mitarbeit...   \n",
       "1017  Wo finde ich das Formular für den Abschlussber...   \n",
       "1019  Wo findet man das Personalberechnungstool für ...   \n",
       "\n",
       "                                                 Answer        id  \n",
       "0      Zweck einer Bonitätsprüfung (siehe https://vd...  bead1965  \n",
       "1      Bitte entnehmen Sie die Information zu den An...  99541b90  \n",
       "2      Es können mehrere Personen eines Zuwendungsem...  84ae26c1  \n",
       "3      Ob die Projektleitenden einen Zugang zu profi...  0817bd44  \n",
       "4      Der Antrag auf profi-online ist der VDIVDE IT...  f06cd838  \n",
       "...                                                 ...       ...  \n",
       "1003   Für die Vorlage des Verwendungsnachweises sin...  d1404867  \n",
       "1013   Für Hochschulen und andere grundfinanzierte E...  15def961  \n",
       "1014   Die Jahressonderzahlung darf nur anteilig für...  23732604  \n",
       "1017   Für den Sachbericht gibt es kein allgemein gü...  02cf6410  \n",
       "1019   Anbei finden Sie den P ersonalberechnungstool...  e0cebdfd  \n",
       "\n",
       "[833 rows x 4 columns]"
      ]
     },
     "execution_count": 80,
     "metadata": {},
     "output_type": "execute_result"
    }
   ],
   "source": [
    "documents"
   ]
  },
  {
   "cell_type": "code",
   "execution_count": 81,
   "metadata": {},
   "outputs": [],
   "source": [
    "from collections import defaultdict\n",
    "\n",
    "hashes = defaultdict(list)\n",
    "\n",
    "for _, doc in documents.iterrows():\n",
    "    doc_id = doc['id']\n",
    "    hashes[doc_id].append(doc)\n"
   ]
  },
  {
   "cell_type": "code",
   "execution_count": 82,
   "metadata": {},
   "outputs": [
    {
     "data": {
      "text/plain": [
       "(833, 833)"
      ]
     },
     "execution_count": 82,
     "metadata": {},
     "output_type": "execute_result"
    }
   ],
   "source": [
    "len(hashes), len(documents)\n"
   ]
  },
  {
   "cell_type": "code",
   "execution_count": 83,
   "metadata": {},
   "outputs": [],
   "source": [
    "for k, values in hashes.items():\n",
    "    if len(values) > 1:\n",
    "        print(k, len(values))"
   ]
  },
  {
   "cell_type": "code",
   "execution_count": 84,
   "metadata": {},
   "outputs": [
    {
     "data": {
      "text/plain": [
       "[]"
      ]
     },
     "execution_count": 84,
     "metadata": {},
     "output_type": "execute_result"
    }
   ],
   "source": [
    "hashes[\"06f888e6\"]"
   ]
  },
  {
   "cell_type": "code",
   "execution_count": 85,
   "metadata": {},
   "outputs": [
    {
     "data": {
      "text/html": [
       "<div>\n",
       "<style scoped>\n",
       "    .dataframe tbody tr th:only-of-type {\n",
       "        vertical-align: middle;\n",
       "    }\n",
       "\n",
       "    .dataframe tbody tr th {\n",
       "        vertical-align: top;\n",
       "    }\n",
       "\n",
       "    .dataframe thead th {\n",
       "        text-align: right;\n",
       "    }\n",
       "</style>\n",
       "<table border=\"1\" class=\"dataframe\">\n",
       "  <thead>\n",
       "    <tr style=\"text-align: right;\">\n",
       "      <th></th>\n",
       "      <th>Category</th>\n",
       "      <th>Question</th>\n",
       "      <th>Answer</th>\n",
       "      <th>id</th>\n",
       "    </tr>\n",
       "  </thead>\n",
       "  <tbody>\n",
       "  </tbody>\n",
       "</table>\n",
       "</div>"
      ],
      "text/plain": [
       "Empty DataFrame\n",
       "Columns: [Category, Question, Answer, id]\n",
       "Index: []"
      ]
     },
     "execution_count": 85,
     "metadata": {},
     "output_type": "execute_result"
    }
   ],
   "source": [
    "documents[documents[\"id\"]==\"8f1f4597\"]"
   ]
  },
  {
   "cell_type": "code",
   "execution_count": 99,
   "metadata": {},
   "outputs": [],
   "source": [
    "prompt_template = \"\"\"\n",
    "Du emulierst einen Studenten, der an unserem Kurs teilnimmt.\n",
    "Formuliere 5 Fragen, die dieser Student auf Basis eines FAQ-Eintrags stellen könnte. Der Eintrag\n",
    "sollte die Antwort auf die Fragen enthalten, und die Fragen sollten vollständig und nicht zu kurz sein.\n",
    "Verwende, wenn möglich, so wenige Wörter wie möglich aus dem Eintrag.\n",
    "\n",
    "Der Eintrag:\n",
    "\n",
    "Kategorie: {Category}\n",
    "Frage: {Question}\n",
    "Antwort: {Answer}\n",
    "\n",
    "Gib das Ergebnis als parsierbares JSON ohne Codeblöcke aus:\n",
    "\n",
    "[\"frage1\", \"frage2\", ..., \"frage5\"]\n",
    "\"\"\".strip()\n"
   ]
  },
  {
   "cell_type": "code",
   "execution_count": 100,
   "metadata": {},
   "outputs": [],
   "source": [
    "from dotenv import load_dotenv\n",
    "import os\n",
    "load_dotenv()\n",
    "\n",
    "OPENAI_API_KEY = os.getenv('OPENAI_API_KEY')\n",
    "\n",
    "\n",
    "from openai import OpenAI\n",
    "client = OpenAI()\n",
    "\n",
    "# Load your OpenAI API key\n",
    "client.api_key = os.getenv(\"OPENAI_API_KEY\")"
   ]
  },
  {
   "cell_type": "code",
   "execution_count": 101,
   "metadata": {},
   "outputs": [],
   "source": [
    "\n",
    "def generate_questions(doc):\n",
    "    prompt = prompt_template.format(**doc)\n",
    "\n",
    "    response = client.chat.completions.create(\n",
    "        model='gpt-4o',\n",
    "        messages=[{\"role\": \"user\", \"content\": prompt}]\n",
    "    )\n",
    "\n",
    "    json_response = response.choices[0].message.content\n",
    "    return json_response"
   ]
  },
  {
   "cell_type": "code",
   "execution_count": 102,
   "metadata": {},
   "outputs": [],
   "source": [
    "from tqdm.auto import tqdm\n"
   ]
  },
  {
   "cell_type": "code",
   "execution_count": 103,
   "metadata": {},
   "outputs": [],
   "source": [
    "results = {}\n"
   ]
  },
  {
   "cell_type": "code",
   "execution_count": 104,
   "metadata": {},
   "outputs": [
    {
     "name": "stderr",
     "output_type": "stream",
     "text": [
      "100%|██████████| 833/833 [29:57<00:00,  2.16s/it] \n"
     ]
    }
   ],
   "source": [
    "from tqdm import tqdm\n",
    "\n",
    "for _, doc in tqdm(documents.iterrows(), total=len(documents)): \n",
    "    doc_id = doc['id']\n",
    "    if doc_id in results:\n",
    "        continue\n",
    "\n",
    "    questions = generate_questions(doc)\n",
    "    results[doc_id] = questions\n"
   ]
  },
  {
   "cell_type": "code",
   "execution_count": 105,
   "metadata": {},
   "outputs": [
    {
     "name": "stdout",
     "output_type": "stream",
     "text": [
      "Results saved to generated_questions.bin\n"
     ]
    }
   ],
   "source": [
    "import pickle\n",
    "\n",
    "# Assuming 'results' is the dictionary containing your generated questions\n",
    "# Replace 'results' with your actual variable\n",
    "\n",
    "file_path = 'generated_questions.bin'\n",
    "\n",
    "with open(file_path, 'wb') as f:\n",
    "    pickle.dump(results, f)\n",
    "\n",
    "print(f'Results saved to {file_path}')\n"
   ]
  },
  {
   "cell_type": "code",
   "execution_count": 106,
   "metadata": {},
   "outputs": [],
   "source": [
    "with open('generated_questions.bin', 'rb') as f_in:\n",
    "    results = pickle.load(f_in)"
   ]
  },
  {
   "cell_type": "code",
   "execution_count": 108,
   "metadata": {},
   "outputs": [],
   "source": [
    "import json\n",
    "parsed_results = {}\n",
    "\n",
    "for doc_id, json_questions in results.items():\n",
    "    parsed_results[doc_id] = json.loads(json_questions)"
   ]
  },
  {
   "cell_type": "code",
   "execution_count": 111,
   "metadata": {},
   "outputs": [],
   "source": [
    "doc_index = {doc['id']: doc for _, doc in documents.iterrows()}\n",
    "final_results = []\n",
    "\n",
    "for doc_id, questions in parsed_results.items():\n",
    "    category = doc_index[doc_id]['Category']\n",
    "    for q in questions:\n",
    "        final_results.append((q, category, doc_id))"
   ]
  },
  {
   "cell_type": "code",
   "execution_count": 112,
   "metadata": {},
   "outputs": [],
   "source": [
    "import pandas as pd\n"
   ]
  },
  {
   "cell_type": "code",
   "execution_count": 113,
   "metadata": {},
   "outputs": [],
   "source": [
    "df = pd.DataFrame(final_results, columns=['Question', 'Category', 'Document'])\n"
   ]
  },
  {
   "cell_type": "code",
   "execution_count": 114,
   "metadata": {},
   "outputs": [
    {
     "data": {
      "text/html": [
       "<div>\n",
       "<style scoped>\n",
       "    .dataframe tbody tr th:only-of-type {\n",
       "        vertical-align: middle;\n",
       "    }\n",
       "\n",
       "    .dataframe tbody tr th {\n",
       "        vertical-align: top;\n",
       "    }\n",
       "\n",
       "    .dataframe thead th {\n",
       "        text-align: right;\n",
       "    }\n",
       "</style>\n",
       "<table border=\"1\" class=\"dataframe\">\n",
       "  <thead>\n",
       "    <tr style=\"text-align: right;\">\n",
       "      <th></th>\n",
       "      <th>Question</th>\n",
       "      <th>Category</th>\n",
       "      <th>Document</th>\n",
       "    </tr>\n",
       "  </thead>\n",
       "  <tbody>\n",
       "    <tr>\n",
       "      <th>0</th>\n",
       "      <td>Welche Unterlagen müssen zur Bonitätsprüfung e...</td>\n",
       "      <td>--Bonitätsprüfung</td>\n",
       "      <td>bead1965</td>\n",
       "    </tr>\n",
       "    <tr>\n",
       "      <th>1</th>\n",
       "      <td>Wer wird zur Bonitätsprüfung aufgefordert?</td>\n",
       "      <td>--Bonitätsprüfung</td>\n",
       "      <td>bead1965</td>\n",
       "    </tr>\n",
       "    <tr>\n",
       "      <th>2</th>\n",
       "      <td>Was passiert, wenn kein geprüfter Jahresabschl...</td>\n",
       "      <td>--Bonitätsprüfung</td>\n",
       "      <td>bead1965</td>\n",
       "    </tr>\n",
       "    <tr>\n",
       "      <th>3</th>\n",
       "      <td>Was ist der Zweck einer Bonitätsprüfung?</td>\n",
       "      <td>--Bonitätsprüfung</td>\n",
       "      <td>bead1965</td>\n",
       "    </tr>\n",
       "    <tr>\n",
       "      <th>4</th>\n",
       "      <td>Wo finde ich weitere Informationen zur Bonität...</td>\n",
       "      <td>--Bonitätsprüfung</td>\n",
       "      <td>bead1965</td>\n",
       "    </tr>\n",
       "  </tbody>\n",
       "</table>\n",
       "</div>"
      ],
      "text/plain": [
       "                                            Question           Category  \\\n",
       "0  Welche Unterlagen müssen zur Bonitätsprüfung e...  --Bonitätsprüfung   \n",
       "1         Wer wird zur Bonitätsprüfung aufgefordert?  --Bonitätsprüfung   \n",
       "2  Was passiert, wenn kein geprüfter Jahresabschl...  --Bonitätsprüfung   \n",
       "3           Was ist der Zweck einer Bonitätsprüfung?  --Bonitätsprüfung   \n",
       "4  Wo finde ich weitere Informationen zur Bonität...  --Bonitätsprüfung   \n",
       "\n",
       "   Document  \n",
       "0  bead1965  \n",
       "1  bead1965  \n",
       "2  bead1965  \n",
       "3  bead1965  \n",
       "4  bead1965  "
      ]
     },
     "execution_count": 114,
     "metadata": {},
     "output_type": "execute_result"
    }
   ],
   "source": [
    "df.head()"
   ]
  },
  {
   "cell_type": "code",
   "execution_count": 115,
   "metadata": {},
   "outputs": [],
   "source": [
    "df.to_csv('ground-truth-data.csv', index=False)\n"
   ]
  },
  {
   "cell_type": "code",
   "execution_count": null,
   "metadata": {},
   "outputs": [],
   "source": []
  }
 ],
 "metadata": {
  "kernelspec": {
   "display_name": "vdi_chatbot_py310",
   "language": "python",
   "name": "python3"
  },
  "language_info": {
   "codemirror_mode": {
    "name": "ipython",
    "version": 3
   },
   "file_extension": ".py",
   "mimetype": "text/x-python",
   "name": "python",
   "nbconvert_exporter": "python",
   "pygments_lexer": "ipython3",
   "version": "3.10.14"
  }
 },
 "nbformat": 4,
 "nbformat_minor": 2
}
