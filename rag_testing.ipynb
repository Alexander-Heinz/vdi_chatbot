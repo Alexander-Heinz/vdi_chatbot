{
 "cells": [
  {
   "cell_type": "markdown",
   "metadata": {},
   "source": [
    "## Load and Process Data:\n",
    "\n",
    "Read the questions and answers from your faqs.csv file.\n",
    "Create a list of questions and answers."
   ]
  },
  {
   "cell_type": "code",
   "execution_count": 1,
   "metadata": {},
   "outputs": [],
   "source": [
    "import pandas as pd\n",
    "\n",
    "# Load the FAQ data\n",
    "df = pd.read_csv('faqs.csv')\n",
    "questions = df['Question'].tolist()\n",
    "answers = df['Answer'].tolist()\n"
   ]
  },
  {
   "cell_type": "code",
   "execution_count": 2,
   "metadata": {},
   "outputs": [
    {
     "data": {
      "text/html": [
       "<div>\n",
       "<style scoped>\n",
       "    .dataframe tbody tr th:only-of-type {\n",
       "        vertical-align: middle;\n",
       "    }\n",
       "\n",
       "    .dataframe tbody tr th {\n",
       "        vertical-align: top;\n",
       "    }\n",
       "\n",
       "    .dataframe thead th {\n",
       "        text-align: right;\n",
       "    }\n",
       "</style>\n",
       "<table border=\"1\" class=\"dataframe\">\n",
       "  <thead>\n",
       "    <tr style=\"text-align: right;\">\n",
       "      <th></th>\n",
       "      <th>Question</th>\n",
       "      <th>Answer</th>\n",
       "    </tr>\n",
       "  </thead>\n",
       "  <tbody>\n",
       "    <tr>\n",
       "      <th>0</th>\n",
       "      <td>Darf das Konsortium nur aus Forschungseinricht...</td>\n",
       "      <td>Bitte entnehmen Sie die Information zu den Ant...</td>\n",
       "    </tr>\n",
       "    <tr>\n",
       "      <th>1</th>\n",
       "      <td>Darf ein Meeting im Ausland stattfinden?</td>\n",
       "      <td>Dienen Projekttreffen im Ausland dem Erreichen...</td>\n",
       "    </tr>\n",
       "    <tr>\n",
       "      <th>2</th>\n",
       "      <td>Darf ein/eine Antragsteller:in auch mehrere An...</td>\n",
       "      <td>Es können von einer Rechtsperson gleichzeitig ...</td>\n",
       "    </tr>\n",
       "    <tr>\n",
       "      <th>3</th>\n",
       "      <td>Darf eine Mittelanforderung für mehrere Monate...</td>\n",
       "      <td>Förderprojekte, die auf Ausgabenbasis geförder...</td>\n",
       "    </tr>\n",
       "    <tr>\n",
       "      <th>4</th>\n",
       "      <td>Darf ich das Formular online signieren?</td>\n",
       "      <td>Das Easy-Online Formular darf auch online sign...</td>\n",
       "    </tr>\n",
       "  </tbody>\n",
       "</table>\n",
       "</div>"
      ],
      "text/plain": [
       "                                            Question  \\\n",
       "0  Darf das Konsortium nur aus Forschungseinricht...   \n",
       "1           Darf ein Meeting im Ausland stattfinden?   \n",
       "2  Darf ein/eine Antragsteller:in auch mehrere An...   \n",
       "3  Darf eine Mittelanforderung für mehrere Monate...   \n",
       "4            Darf ich das Formular online signieren?   \n",
       "\n",
       "                                              Answer  \n",
       "0  Bitte entnehmen Sie die Information zu den Ant...  \n",
       "1  Dienen Projekttreffen im Ausland dem Erreichen...  \n",
       "2  Es können von einer Rechtsperson gleichzeitig ...  \n",
       "3  Förderprojekte, die auf Ausgabenbasis geförder...  \n",
       "4  Das Easy-Online Formular darf auch online sign...  "
      ]
     },
     "execution_count": 2,
     "metadata": {},
     "output_type": "execute_result"
    }
   ],
   "source": [
    "df.head()"
   ]
  },
  {
   "cell_type": "markdown",
   "metadata": {},
   "source": [
    "## Set Up Elasticsearch:\n",
    "\n",
    "- Install and run Elasticsearch locally or use a cloud service.\n",
    "- Create an index for storing your FAQ data.\n",
    "\n",
    "#### Index Data:\n",
    "\n",
    "Use the Elasticsearch Python client to index your data."
   ]
  },
  {
   "cell_type": "code",
   "execution_count": 3,
   "metadata": {},
   "outputs": [
    {
     "ename": "ValueError",
     "evalue": "Either 'hosts' or 'cloud_id' must be specified",
     "output_type": "error",
     "traceback": [
      "\u001b[0;31m---------------------------------------------------------------------------\u001b[0m",
      "\u001b[0;31mValueError\u001b[0m                                Traceback (most recent call last)",
      "Cell \u001b[0;32mIn[3], line 4\u001b[0m\n\u001b[1;32m      1\u001b[0m \u001b[38;5;28;01mfrom\u001b[39;00m \u001b[38;5;21;01melasticsearch\u001b[39;00m \u001b[38;5;28;01mimport\u001b[39;00m Elasticsearch, helpers\n\u001b[1;32m      3\u001b[0m \u001b[38;5;66;03m# Initialize Elasticsearch client\u001b[39;00m\n\u001b[0;32m----> 4\u001b[0m es \u001b[38;5;241m=\u001b[39m \u001b[43mElasticsearch\u001b[49m\u001b[43m(\u001b[49m\u001b[43m)\u001b[49m\n\u001b[1;32m      6\u001b[0m \u001b[38;5;66;03m# Create an index\u001b[39;00m\n\u001b[1;32m      7\u001b[0m es\u001b[38;5;241m.\u001b[39mindices\u001b[38;5;241m.\u001b[39mcreate(index\u001b[38;5;241m=\u001b[39m\u001b[38;5;124m'\u001b[39m\u001b[38;5;124mfaq_index\u001b[39m\u001b[38;5;124m'\u001b[39m, ignore\u001b[38;5;241m=\u001b[39m\u001b[38;5;241m400\u001b[39m)\n",
      "File \u001b[0;32m~/opt/anaconda3/envs/vdi_chatbot/lib/python3.12/site-packages/elasticsearch/_sync/client/__init__.py:197\u001b[0m, in \u001b[0;36mElasticsearch.__init__\u001b[0;34m(self, hosts, cloud_id, api_key, basic_auth, bearer_auth, opaque_id, headers, connections_per_node, http_compress, verify_certs, ca_certs, client_cert, client_key, ssl_assert_hostname, ssl_assert_fingerprint, ssl_version, ssl_context, ssl_show_warn, transport_class, request_timeout, node_class, node_pool_class, randomize_nodes_in_pool, node_selector_class, dead_node_backoff_factor, max_dead_node_backoff, serializer, serializers, default_mimetype, max_retries, retry_on_status, retry_on_timeout, sniff_on_start, sniff_before_requests, sniff_on_node_failure, sniff_timeout, min_delay_between_sniffing, sniffed_node_callback, meta_header, timeout, randomize_hosts, host_info_callback, sniffer_timeout, sniff_on_connection_fail, http_auth, maxsize, _transport)\u001b[0m\n\u001b[1;32m    134\u001b[0m \u001b[38;5;28;01mdef\u001b[39;00m \u001b[38;5;21m__init__\u001b[39m(\n\u001b[1;32m    135\u001b[0m     \u001b[38;5;28mself\u001b[39m,\n\u001b[1;32m    136\u001b[0m     hosts: t\u001b[38;5;241m.\u001b[39mOptional[_TYPE_HOSTS] \u001b[38;5;241m=\u001b[39m \u001b[38;5;28;01mNone\u001b[39;00m,\n\u001b[0;32m   (...)\u001b[0m\n\u001b[1;32m    194\u001b[0m     _transport: t\u001b[38;5;241m.\u001b[39mOptional[Transport] \u001b[38;5;241m=\u001b[39m \u001b[38;5;28;01mNone\u001b[39;00m,\n\u001b[1;32m    195\u001b[0m ) \u001b[38;5;241m-\u001b[39m\u001b[38;5;241m>\u001b[39m \u001b[38;5;28;01mNone\u001b[39;00m:\n\u001b[1;32m    196\u001b[0m     \u001b[38;5;28;01mif\u001b[39;00m hosts \u001b[38;5;129;01mis\u001b[39;00m \u001b[38;5;28;01mNone\u001b[39;00m \u001b[38;5;129;01mand\u001b[39;00m cloud_id \u001b[38;5;129;01mis\u001b[39;00m \u001b[38;5;28;01mNone\u001b[39;00m \u001b[38;5;129;01mand\u001b[39;00m _transport \u001b[38;5;129;01mis\u001b[39;00m \u001b[38;5;28;01mNone\u001b[39;00m:\n\u001b[0;32m--> 197\u001b[0m         \u001b[38;5;28;01mraise\u001b[39;00m \u001b[38;5;167;01mValueError\u001b[39;00m(\u001b[38;5;124m\"\u001b[39m\u001b[38;5;124mEither \u001b[39m\u001b[38;5;124m'\u001b[39m\u001b[38;5;124mhosts\u001b[39m\u001b[38;5;124m'\u001b[39m\u001b[38;5;124m or \u001b[39m\u001b[38;5;124m'\u001b[39m\u001b[38;5;124mcloud_id\u001b[39m\u001b[38;5;124m'\u001b[39m\u001b[38;5;124m must be specified\u001b[39m\u001b[38;5;124m\"\u001b[39m)\n\u001b[1;32m    199\u001b[0m     \u001b[38;5;28;01mif\u001b[39;00m timeout \u001b[38;5;129;01mis\u001b[39;00m \u001b[38;5;129;01mnot\u001b[39;00m DEFAULT:\n\u001b[1;32m    200\u001b[0m         \u001b[38;5;28;01mif\u001b[39;00m request_timeout \u001b[38;5;129;01mis\u001b[39;00m \u001b[38;5;129;01mnot\u001b[39;00m DEFAULT:\n",
      "\u001b[0;31mValueError\u001b[0m: Either 'hosts' or 'cloud_id' must be specified"
     ]
    }
   ],
   "source": [
    "from elasticsearch import Elasticsearch, helpers\n",
    "\n",
    "# Initialize Elasticsearch client\n",
    "es = Elasticsearch()\n",
    "\n",
    "# Create an index\n",
    "es.indices.create(index='faq_index', ignore=400)\n",
    "\n",
    "# Prepare data for indexing\n",
    "def generate_documents(questions, answers):\n",
    "    for question, answer in zip(questions, answers):\n",
    "        yield {\n",
    "            \"_index\": \"faq_index\",\n",
    "            \"_source\": {\n",
    "                \"question\": question,\n",
    "                \"answer\": answer\n",
    "            }\n",
    "        }\n",
    "\n",
    "# Index data\n",
    "helpers.bulk(es, generate_documents(questions, answers))\n"
   ]
  },
  {
   "cell_type": "code",
   "execution_count": null,
   "metadata": {},
   "outputs": [],
   "source": []
  }
 ],
 "metadata": {
  "kernelspec": {
   "display_name": "vdi_chatbot",
   "language": "python",
   "name": "python3"
  },
  "language_info": {
   "codemirror_mode": {
    "name": "ipython",
    "version": 3
   },
   "file_extension": ".py",
   "mimetype": "text/x-python",
   "name": "python",
   "nbconvert_exporter": "python",
   "pygments_lexer": "ipython3",
   "version": "3.12.4"
  }
 },
 "nbformat": 4,
 "nbformat_minor": 2
}
